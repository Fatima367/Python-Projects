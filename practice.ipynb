{
 "cells": [
  {
   "cell_type": "code",
   "execution_count": null,
   "metadata": {},
   "outputs": [
    {
     "name": "stdout",
     "output_type": "stream",
     "text": [
      "0\n"
     ]
    }
   ],
   "source": [
    "a = 10 \n",
    "b = 4\n",
    "res = a & b\n",
    "print(res)"
   ]
  },
  {
   "cell_type": "code",
   "execution_count": null,
   "metadata": {},
   "outputs": [
    {
     "name": "stdout",
     "output_type": "stream",
     "text": [
      "14\n",
      "<memory at 0x0000015793EF1E40>\n"
     ]
    }
   ],
   "source": [
    "a = 10 \n",
    "b = 4\n",
    "res = a | b\n",
    "print(res)"
   ]
  },
  {
   "cell_type": "code",
   "execution_count": 10,
   "metadata": {},
   "outputs": [
    {
     "name": "stdout",
     "output_type": "stream",
     "text": [
      "14\n"
     ]
    }
   ],
   "source": [
    "a = 10 \n",
    "b = 4\n",
    "res = a | b\n",
    "print(res)"
   ]
  },
  {
   "cell_type": "code",
   "execution_count": 11,
   "metadata": {},
   "outputs": [
    {
     "name": "stdout",
     "output_type": "stream",
     "text": [
      "-11\n"
     ]
    }
   ],
   "source": [
    "a = 10 \n",
    "res = ~a\n",
    "print(res)"
   ]
  },
  {
   "cell_type": "code",
   "execution_count": 12,
   "metadata": {},
   "outputs": [
    {
     "name": "stdout",
     "output_type": "stream",
     "text": [
      "40\n"
     ]
    }
   ],
   "source": [
    "a = 10 \n",
    "res = a << 2\n",
    "print(res)"
   ]
  },
  {
   "cell_type": "code",
   "execution_count": 13,
   "metadata": {},
   "outputs": [
    {
     "name": "stdout",
     "output_type": "stream",
     "text": [
      "2\n"
     ]
    }
   ],
   "source": [
    "a = 10 \n",
    "res = a >> 2\n",
    "print(res)"
   ]
  },
  {
   "cell_type": "code",
   "execution_count": 18,
   "metadata": {},
   "outputs": [
    {
     "name": "stdout",
     "output_type": "stream",
     "text": [
      "1010\n",
      "1010\n",
      "0b1010\n"
     ]
    }
   ],
   "source": [
    "x = 10\n",
    "\n",
    "print(format(x, 'b'))\n",
    "print(f\"{x:b}\")\n",
    "print(bin(x))"
   ]
  },
  {
   "cell_type": "code",
   "execution_count": null,
   "metadata": {},
   "outputs": [
    {
     "name": "stdout",
     "output_type": "stream",
     "text": [
      "A\n",
      "B\n",
      "C\n"
     ]
    }
   ],
   "source": [
    "# unicode characters represented by \\u written in 4 digit hexadecimal code\n",
    "\n",
    "print(\"\\u0041\")\n",
    "print(\"\\u0042\")\n",
    "print(\"\\u0043\")"
   ]
  },
  {
   "cell_type": "code",
   "execution_count": 11,
   "metadata": {},
   "outputs": [
    {
     "name": "stdout",
     "output_type": "stream",
     "text": [
      "Hello \\ World\n"
     ]
    }
   ],
   "source": [
    "# raw strings represented by r treat backslashes as literal strings\n",
    "raw_string = r\"Hello \\ World\"\n",
    "print(raw_string)"
   ]
  },
  {
   "cell_type": "code",
   "execution_count": 2,
   "metadata": {},
   "outputs": [
    {
     "name": "stdout",
     "output_type": "stream",
     "text": [
      "['banana', 'apple', 'kiwi']\n"
     ]
    }
   ],
   "source": [
    "words = [\"apple\", \"kiwi\", \"banana\"]\n",
    "words.sort(key=lambda word:word[-1])\n",
    "print(words)"
   ]
  },
  {
   "cell_type": "code",
   "execution_count": null,
   "metadata": {},
   "outputs": [
    {
     "name": "stdout",
     "output_type": "stream",
     "text": [
      "[16, 25, 36, 49]\n"
     ]
    }
   ],
   "source": [
    "# list comprehensions\n",
    "square : list= [x**2 for x in [1,2,3,4,5,6,7] if x > 3]\n",
    "print(square)"
   ]
  },
  {
   "cell_type": "code",
   "execution_count": 4,
   "metadata": {},
   "outputs": [
    {
     "name": "stdout",
     "output_type": "stream",
     "text": [
      "<class 'tuple'>\n",
      "<class 'str'>\n"
     ]
    }
   ],
   "source": [
    "thistuple = (\"apple\",)\n",
    "print(type(thistuple))\n",
    "\n",
    "#NOT a tuple\n",
    "thistuple = (\"apple\")\n",
    "print(type(thistuple))"
   ]
  },
  {
   "cell_type": "code",
   "execution_count": 10,
   "metadata": {},
   "outputs": [
    {
     "name": "stdout",
     "output_type": "stream",
     "text": [
      "<class 'dict'>\n",
      "{'name': 'Shanzay', 'livesin': 'Ireland'}\n",
      "Europe\n"
     ]
    }
   ],
   "source": [
    "thisdict : dict = dict(name=\"Shanzay\", livesin = \"Ireland\")\n",
    "print(type(thisdict))\n",
    "print(thisdict)\n",
    "print(thisdict.get(\"livein\", \"Europe\"))"
   ]
  },
  {
   "cell_type": "code",
   "execution_count": 14,
   "metadata": {},
   "outputs": [
    {
     "name": "stdout",
     "output_type": "stream",
     "text": [
      "original_dict =  {'a': 1, 'b': 2, 'c': 3}\n",
      "{'a': 2, 'b': 4, 'c': 6}\n"
     ]
    }
   ],
   "source": [
    "original_dict = {'a': 1, 'b': 2, 'c': 3}\n",
    "print(\"original_dict = \", original_dict)\n",
    "new_dict = {k : v*2 for k , v in original_dict.items()}\n",
    "print(new_dict)"
   ]
  },
  {
   "cell_type": "code",
   "execution_count": 15,
   "metadata": {},
   "outputs": [
    {
     "name": "stdout",
     "output_type": "stream",
     "text": [
      "{'0c': '32.0f', '10c': '50.0f', '20c': '68.0f', '30c': '86.0f', '40c': '104.0f'}\n"
     ]
    }
   ],
   "source": [
    "celsius_temps = [0, 10, 20, 30, 40]\n",
    "fahrenheit_temps = {str(c)+\"c\":  str((c * 9/5) + 32)+\"f\" for c in celsius_temps}\n",
    "print(fahrenheit_temps)"
   ]
  }
 ],
 "metadata": {
  "kernelspec": {
   "display_name": "class1",
   "language": "python",
   "name": "python3"
  },
  "language_info": {
   "codemirror_mode": {
    "name": "ipython",
    "version": 3
   },
   "file_extension": ".py",
   "mimetype": "text/x-python",
   "name": "python",
   "nbconvert_exporter": "python",
   "pygments_lexer": "ipython3",
   "version": "3.12.0"
  }
 },
 "nbformat": 4,
 "nbformat_minor": 2
}
